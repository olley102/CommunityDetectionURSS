{
  "nbformat": 4,
  "nbformat_minor": 0,
  "metadata": {
    "colab": {
      "name": "autoencoder_image_segmentation.ipynb",
      "provenance": [],
      "collapsed_sections": [],
      "authorship_tag": "ABX9TyMl7yGAVPbuZ+6K+/jIykc6",
      "include_colab_link": true
    },
    "kernelspec": {
      "name": "python3",
      "display_name": "Python 3"
    },
    "language_info": {
      "name": "python"
    }
  },
  "cells": [
    {
      "cell_type": "markdown",
      "metadata": {
        "id": "view-in-github",
        "colab_type": "text"
      },
      "source": [
        "<a href=\"https://colab.research.google.com/github/olley102/CommunityDetectionURSS/blob/main/autoencoder_image_segmentation.ipynb\" target=\"_parent\"><img src=\"https://colab.research.google.com/assets/colab-badge.svg\" alt=\"Open In Colab\"/></a>"
      ]
    },
    {
      "cell_type": "markdown",
      "source": [
        "# Autoencoder image segmentation\n",
        "This is an attempt to implement an idea to use autoencoders to encode local spatial information of images to then apply clustering."
      ],
      "metadata": {
        "id": "2jg5WeSrJVHN"
      }
    },
    {
      "cell_type": "code",
      "source": [
        "import math\n",
        "import numpy as np\n",
        "import keras.backend as K\n",
        "import tensorflow as tf"
      ],
      "metadata": {
        "id": "vzQrzi9GQLSM"
      },
      "execution_count": null,
      "outputs": []
    },
    {
      "cell_type": "code",
      "execution_count": null,
      "metadata": {
        "id": "rLWjvlkxJQwS"
      },
      "outputs": [],
      "source": [
        "from keras import Sequential, Input, Model\n",
        "from keras.layers import Conv2D, MaxPooling2D, UpSampling2D, Conv2DTranspose\n",
        "from keras.layers import Activation, Flatten, Dense, Reshape"
      ]
    },
    {
      "cell_type": "code",
      "source": [
        "from sklearn.cluster import KMeans\n",
        "from sklearn.metrics import silhouette_score, silhouette_samples"
      ],
      "metadata": {
        "id": "Em0d41tkQNgS"
      },
      "execution_count": null,
      "outputs": []
    },
    {
      "cell_type": "markdown",
      "source": [
        "## 1. Sliding window autoencoder"
      ],
      "metadata": {
        "id": "jr4qOSEVKWGR"
      }
    },
    {
      "cell_type": "code",
      "source": [
        "class WindowAE:\n",
        "  def __init__(self, window_size=(7, 7), num_channels=1, encoder_sizes=None,\n",
        "               decoder_sizes=None):\n",
        "    self.model = None\n",
        "    self.encoder = None\n",
        "    self._built = False\n",
        "    self.max = 1.0\n",
        "    self.min = 0.0\n",
        "    self.window_size = window_size\n",
        "    self.num_channels = num_channels\n",
        "    self.encoder_sizes = encoder_sizes\n",
        "    self.decoder_sizes = decoder_sizes\n",
        "  \n",
        "  def make(self):\n",
        "    if (\n",
        "        not self._built and\n",
        "        self.encoder_sizes is not None and\n",
        "        self.decoder_sizes is not None\n",
        "    ):\n",
        "      stack_size = self.window_size + (self.num_channels+2,)\n",
        "      input_window = Input(stack_size)\n",
        "\n",
        "      x = Flatten()(input_window)\n",
        "      for s in self.encoder_sizes:\n",
        "        x = Dense(s, activation='relu')(x)\n",
        "      \n",
        "      encoded = Activation('linear')(x)\n",
        "\n",
        "      for s in self.decoder_sizes:\n",
        "        x = Dense(s, activation='relu')(x)\n",
        "      \n",
        "      decoded = Reshape(stack_size)\n",
        "\n",
        "      self.model = Model(input_window, decoded)\n",
        "      self.encoder = Model(input_window, encoded)\n",
        "  \n",
        "  def compile(self):\n",
        "    self.model.compile(loss='mse', optimizer='adam', metrics=['mse'])\n",
        "  \n",
        "  def fit_transform(self, x):\n",
        "    self.max = np.max(x)\n",
        "    self.min = np.min(x)\n",
        "  \n",
        "  def transform_x(self, x):\n",
        "    # Normalize.\n",
        "    x_norm = (x - self.min) / (self.max - self.min)\n",
        "\n",
        "    # Zero padding.\n",
        "    pad = (*(math.floor(s/2) for s in self.window_size), 0)\n",
        "    x_pad = np.pad(x_norm, pad)\n",
        "\n",
        "    # Stack array with positional information.\n",
        "    pos_i = np.arange(-pad[0], x.shape[0]+pad[0], dtype='float')\n",
        "    pos_j = np.arange(-pad[1], x.shape[1]+pad[1], dtype='float')\n",
        "    x_i = np.outer(pos_i, np.ones(x.shape[1], dtype='float'))\n",
        "    x_j = np.outer(np.ones(x.shape[0], dtype='float'), pos_j)\n",
        "    x_full = np.dstack((x, x_i, x_j))\n",
        "\n",
        "    return x_full\n",
        "  \n",
        "  def transform_y(self, y):\n",
        "    return self.transform_x(y)\n",
        "  \n",
        "  def encode(self, x):\n",
        "    x_full = self.transform_x(x)\n",
        "    enc_full = np.zeros((*x.shape[:2], self.encoder_sizes[-1]))\n",
        "\n",
        "    for p in range(x.shape[0]*x.shape[1]):\n",
        "      unravel_p = np.unravel_index(p, x.shape[:2])\n",
        "      window = x_full[unravel_p[0]:unravel_p[0]+self.window_size[0],\n",
        "                      unravel_p[1]:unravel_p[1]+self.window_size[1]]\n",
        "      enc_p = self.encoder.predict(window)\n",
        "      enc_full[unravel_p] = enc_p\n",
        "    \n",
        "    return enc_full\n",
        "  \n",
        "  def predict(self, x):\n",
        "    x_full = self.transform_x(x)\n",
        "    pred = np.zeros_like(x)\n",
        "    pad_half = tuple(math.floor(s/2) for s in self.window_size)\n",
        "\n",
        "    for p in range(x.shape[0]*x.shape[1]):\n",
        "      unravel_p = np.unravel_index(p, x.shape[:2])\n",
        "      window = x_full[unravel_p[0]:unravel_p[0]+self.window_size[0],\n",
        "                      unravel_p[1]:unravel_p[1]+self.window_size[1]]\n",
        "      pred_window = self.model.predict(window)\n",
        "\n",
        "      # Store central pixel of pred_window in pred.\n",
        "      pred[unravel_p] = pred_window[unravel_p[0]+pad_half[0],\n",
        "                                    unravel_p[1]+pad_half[1]]\n",
        "      \n",
        "    return pred\n",
        "\n",
        "  def fit(self, x, y, epochs=1, batch_size=32, **kwargs):\n",
        "    x_full = self.transform_x(x)\n",
        "    y_full = self.transform_y(y)\n",
        "\n",
        "    history = []\n",
        "\n",
        "    for ep in range(epochs):\n",
        "      # Make a random choice of pixels.\n",
        "      ravel_choice = np.random.choice(np.arange(x.shape[0]*x.shape[1]),\n",
        "                                      batch_size, replace=False)\n",
        "      unravel_choice = np.column_stack(np.unravel_index(ravel_choice,\n",
        "                                                        x.shape[:2]))\n",
        "      \n",
        "      # Make windows for each pixel and stack them.\n",
        "      # Central pixel is chosen pixel, but we don't have to shift start\n",
        "      # indices.\n",
        "      x_stack = np.stack(tuple(x_full[i:i+self.window_size[0],\n",
        "                                      j:j+self.window_size[1]]\n",
        "                               for i, j in unravel_choice), axis=-1)\n",
        "      y_stack = np.stack(tuple(y_full[i:i+self.window_size[0],\n",
        "                                      j:j+self.window_size[1]]\n",
        "                               for i, j in unravel_choice), axis=-1)\n",
        "      \n",
        "      # Train network on stack.\n",
        "      history.append(self.model.fit(x_stack, y_stack, epochs=ep+1,\n",
        "                                    initial_epoch=ep, **kwargs))\n",
        "    \n",
        "    return history"
      ],
      "metadata": {
        "id": "t6l0wgRcQQOc"
      },
      "execution_count": null,
      "outputs": []
    }
  ]
}