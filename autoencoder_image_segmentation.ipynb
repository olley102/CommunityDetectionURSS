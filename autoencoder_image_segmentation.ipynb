{
  "nbformat": 4,
  "nbformat_minor": 0,
  "metadata": {
    "colab": {
      "name": "autoencoder_image_segmentation.ipynb",
      "provenance": [],
      "collapsed_sections": [],
      "authorship_tag": "ABX9TyN+QYnbWLKaYPQPzMr6ZXa5",
      "include_colab_link": true
    },
    "kernelspec": {
      "name": "python3",
      "display_name": "Python 3"
    },
    "language_info": {
      "name": "python"
    }
  },
  "cells": [
    {
      "cell_type": "markdown",
      "metadata": {
        "id": "view-in-github",
        "colab_type": "text"
      },
      "source": [
        "<a href=\"https://colab.research.google.com/github/olley102/CommunityDetectionURSS/blob/main/autoencoder_image_segmentation.ipynb\" target=\"_parent\"><img src=\"https://colab.research.google.com/assets/colab-badge.svg\" alt=\"Open In Colab\"/></a>"
      ]
    },
    {
      "cell_type": "markdown",
      "source": [
        "# Autoencoder image segmentation\n",
        "This is an attempt to implement an idea to use autoencoders to encode local spatial information of images to then apply clustering."
      ],
      "metadata": {
        "id": "2jg5WeSrJVHN"
      }
    },
    {
      "cell_type": "code",
      "source": [
        "import math\n",
        "import numpy as np\n",
        "import keras.backend as K\n",
        "import tensorflow as tf"
      ],
      "metadata": {
        "id": "vzQrzi9GQLSM"
      },
      "execution_count": null,
      "outputs": []
    },
    {
      "cell_type": "code",
      "execution_count": null,
      "metadata": {
        "id": "rLWjvlkxJQwS"
      },
      "outputs": [],
      "source": [
        "from keras import Sequential, Input, Model\n",
        "from keras.layers import Conv2D, MaxPooling2D, UpSampling2D, Conv2DTranspose\n",
        "from keras.layers import Activation, Flatten, Dense, Reshape"
      ]
    },
    {
      "cell_type": "code",
      "source": [
        "from sklearn.cluster import KMeans\n",
        "from sklearn.metrics import silhouette_score, silhouette_samples"
      ],
      "metadata": {
        "id": "Em0d41tkQNgS"
      },
      "execution_count": null,
      "outputs": []
    },
    {
      "cell_type": "code",
      "source": [
        "class WindowAE:\n",
        "  def __init__(self, window_size=(7, 7), num_channels=1, encoder_sizes=None,\n",
        "               decoder_sizes=None):\n",
        "    self.model = None\n",
        "    self.encoder = None\n",
        "    self._built = False\n",
        "    self.max = 0.0\n",
        "    self.min = 0.0\n",
        "    self.window_size = window_size\n",
        "    self.num_channels = num_channels\n",
        "    self.encoder_sizes = encoder_sizes\n",
        "    self.decoder_sizes = decoder_sizes\n",
        "  \n",
        "  def make(self):\n",
        "    if (\n",
        "        not self._built and\n",
        "        self.encoder_sizes is not None and\n",
        "        self.decoder_sizes is not None\n",
        "    ):\n",
        "      stack_size = self.window_size + (self.num_channels+2,)\n",
        "      input_window = Input(stack_size)\n",
        "\n",
        "      x = Flatten()(input_window)\n",
        "      for s in self.encoder_sizes:\n",
        "        x = Dense(s, activation='relu')(x)\n",
        "      \n",
        "      encoded = Activation('linear')(x)\n",
        "\n",
        "      for s in self.decoder_sizes:\n",
        "        x = Dense(s, activation='relu')(x)\n",
        "      \n",
        "      decoded = Reshape(stack_size)\n",
        "\n",
        "      self.model = Model(input_window, decoded)\n",
        "      self.encoder = Model(input_window, encoded)\n",
        "  \n",
        "  def compile(self):\n",
        "    self.model.compile(loss='mse', optimizer='adam', metrics=['mse'])\n",
        "  \n",
        "  def fit_transform(self, x):\n",
        "    self.max = np.max(x)\n",
        "    self.min = np.min(x)\n",
        "  \n",
        "  def transform_x(self, x, train=False):\n",
        "    # Normalize.\n",
        "    x_norm = (x - self.min) / (self.max - self.min)\n",
        "\n",
        "    # Zero padding.\n",
        "    pad = (*(math.floor(s/2) for s in self.window_size), 0)\n",
        "    x_pad = np.pad(x_norm, pad)\n",
        "\n",
        "    # Stack array with positional information.\n",
        "    pos_i = np.arange(-pad[0], x.shape[0]+pad[0], dtype='float')\n",
        "    pos_j = np.arange(-pad[1], x.shape[1]+pad[1], dtype='float')\n",
        "    x_i = np.outer(pos_i, np.ones(x.shape[1], dtype='float'))\n",
        "    x_j = np.outer(np.ones(x.shape[0], dtype='float'), pos_j)\n",
        "    x_full = np.dstack((x, x_i, x_j))\n",
        "\n",
        "    # TODO: For each pixel make windows. Need to be done in a for loop. If done\n",
        "    # with numpy, RAM will fill up very quickly. If window_size=(7,7) and x\n",
        "    # is size 1000x1000 with 3 channels then you are looking at full data of\n",
        "    # size (7,7,5,1003*1003), which is too big to store. Train and prediction\n",
        "    # processes must involve storing and discarding a number of small stacks,\n",
        "    # say (7,7,5,100), and number of epochs in training determines number of\n",
        "    # stacks.\n",
        "    # Remember: padding pixels cannot be central.\n",
        "\n",
        "    return x_full\n",
        "  \n",
        "  def transform_y(self, y):\n",
        "    return self.transform_x(y, train=True)\n",
        "  \n",
        "  def encode(self, x):\n",
        "    x1 = self.transform_x(x, train=False)\n",
        "    return self.encoder.predict(x1)"
      ],
      "metadata": {
        "id": "t6l0wgRcQQOc"
      },
      "execution_count": null,
      "outputs": []
    },
    {
      "cell_type": "code",
      "source": [
        ""
      ],
      "metadata": {
        "id": "SrjJTuY1FIvb"
      },
      "execution_count": null,
      "outputs": []
    }
  ]
}