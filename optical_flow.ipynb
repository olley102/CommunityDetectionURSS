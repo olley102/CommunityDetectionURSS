{
  "nbformat": 4,
  "nbformat_minor": 0,
  "metadata": {
    "colab": {
      "name": "optical_flow.ipynb",
      "provenance": [],
      "collapsed_sections": [],
      "authorship_tag": "ABX9TyNP9Vx/O5INpcmxWU5GXFPU",
      "include_colab_link": true
    },
    "kernelspec": {
      "name": "python3",
      "display_name": "Python 3"
    },
    "language_info": {
      "name": "python"
    }
  },
  "cells": [
    {
      "cell_type": "markdown",
      "metadata": {
        "id": "view-in-github",
        "colab_type": "text"
      },
      "source": [
        "<a href=\"https://colab.research.google.com/github/olley102/CommunityDetectionURSS/blob/main/optical_flow.ipynb\" target=\"_parent\"><img src=\"https://colab.research.google.com/assets/colab-badge.svg\" alt=\"Open In Colab\"/></a>"
      ]
    },
    {
      "cell_type": "markdown",
      "source": [
        "# Optical Flow\n",
        "\n",
        "Based on (Horn, B., Schunk, B., *Determining Optical Flow* 1981)."
      ],
      "metadata": {
        "id": "WHElRmxPdEkr"
      }
    },
    {
      "cell_type": "markdown",
      "source": [
        "## 1. Estimating partial derivatives"
      ],
      "metadata": {
        "id": "s_0EetSfd72D"
      }
    },
    {
      "cell_type": "code",
      "source": [
        "import numpy as np\n",
        "import matplotlib.pyplot as plt"
      ],
      "metadata": {
        "id": "faxoPWgCmnsI"
      },
      "execution_count": 7,
      "outputs": []
    },
    {
      "cell_type": "code",
      "source": [
        "def image_seq_partial(arr):\n",
        "  # Pad the lower-right boundary of each frame, and pad the back frame.\n",
        "  padded = np.pad(arr, ((0, 1), (0, 1), (0, 1)), mode='edge')\n",
        "\n",
        "  # Shift the entire array to get 8 neighbouring measurements.\n",
        "  # Roll does the trick since we will ignore values in the padded boundary.\n",
        "  shift000 = padded\n",
        "  shift001 = np.roll(padded, -1, axis=2)\n",
        "  shift010 = np.roll(padded, -1, axis=1)\n",
        "  shift011 = np.roll(padded, (-1, -1), axis=(1, 2))\n",
        "  shift100 = np.roll(padded, -1, axis=0)\n",
        "  shift101 = np.roll(padded, (-1, -1), axis=(0, 2))\n",
        "  shift110 = np.roll(padded, (-1, -1), axis=(0, 1))\n",
        "  shift111 = np.roll(padded, (-1, -1, -1), axis=(0, 1, 2))\n",
        "\n",
        "  # Approximate derivatives.\n",
        "  partial_x = 0.25 * (shift010 - shift000 + shift110 - shift100 + shift011 - shift001 + shift111 - shift101)\n",
        "  partial_y = 0.25 * (shift100 - shift000 + shift110 - shift010 + shift101 - shift001 + shift111 - shift011)\n",
        "  partial_t = 0.25 * (shift001 - shift000 + shift101 - shift100 + shift011 - shift010 + shift111 - shift110)\n",
        "\n",
        "  # Concatenate and return at positions available in arr.\n",
        "  return np.stack((\n",
        "      partial_x[:-1, :-1, :-1],\n",
        "      partial_y[:-1, :-1, :-1],\n",
        "      partial_t[:-1, :-1, :-1]\n",
        "  ), axis=0)"
      ],
      "metadata": {
        "id": "76W5I1oIeKJx"
      },
      "execution_count": 8,
      "outputs": []
    },
    {
      "cell_type": "code",
      "source": [
        "im_arr = np.stack([np.array([\n",
        "        [1, 1, 1, 0, 0, 0],\n",
        "        [1, 1, 1, 0, 0, 0],\n",
        "        [1, 1, 1, 0, 0, 0],\n",
        "        [0, 0, 0, 0, 0, 0],\n",
        "        [0, 0, 0, 0, 0, 0],\n",
        "        [0, 0, 0, 0, 0, 0]\n",
        "    ]),\n",
        "    np.array([\n",
        "        [0, 1, 1, 1, 0, 0],\n",
        "        [0, 1, 1, 1, 0, 0],\n",
        "        [0, 1, 1, 1, 0, 0],\n",
        "        [0, 0, 0, 0, 0, 0],\n",
        "        [0, 0, 0, 0, 0, 0],\n",
        "        [0, 0, 0, 0, 0, 0]\n",
        "    ]),\n",
        "    np.array([\n",
        "        [0, 0, 0, 0, 0, 0],\n",
        "        [0, 1, 1, 1, 0, 0],\n",
        "        [0, 1, 1, 1, 0, 0],\n",
        "        [0, 1, 1, 1, 0, 0],\n",
        "        [0, 0, 0, 0, 0, 0],\n",
        "        [0, 0, 0, 0, 0, 0]\n",
        "    ])\n",
        "], axis=-1)"
      ],
      "metadata": {
        "id": "3aaruRUlWgXW"
      },
      "execution_count": 9,
      "outputs": []
    },
    {
      "cell_type": "code",
      "source": [
        "partial = image_seq_partial(im_arr)"
      ],
      "metadata": {
        "id": "s3yz_3XbO7hf"
      },
      "execution_count": 10,
      "outputs": []
    },
    {
      "cell_type": "code",
      "source": [
        "partial.shape"
      ],
      "metadata": {
        "colab": {
          "base_uri": "https://localhost:8080/"
        },
        "id": "iRg8VyPtUF2A",
        "outputId": "f366074a-ad63-4c70-87e6-afd3bfa08e1c"
      },
      "execution_count": 11,
      "outputs": [
        {
          "output_type": "execute_result",
          "data": {
            "text/plain": [
              "(3, 6, 6, 3)"
            ]
          },
          "metadata": {},
          "execution_count": 11
        }
      ]
    },
    {
      "cell_type": "code",
      "source": [
        "fig = plt.figure(figsize=(16, 9))\n",
        "ax1 = fig.add_subplot(131)\n",
        "im1 = ax1.imshow(partial[0, :, :, 0], vmin=-0.5, vmax=0.5)\n",
        "ax1.xaxis.set_visible(False)\n",
        "ax1.yaxis.set_visible(False)\n",
        "ax1.set_aspect('equal')\n",
        "ax1.set_title('x')\n",
        "plt.margins(0.25, 0.25)\n",
        "\n",
        "ax2 = fig.add_subplot(132)\n",
        "ax2.imshow(partial[1, :, :, 0], vmin=-0.5, vmax=0.5)\n",
        "ax2.xaxis.set_visible(False)\n",
        "ax2.yaxis.set_visible(False)\n",
        "ax2.set_aspect('equal')\n",
        "ax2.set_title('y')\n",
        "plt.margins(0.25, 0.25)\n",
        "\n",
        "ax3 = fig.add_subplot(133)\n",
        "ax3.imshow(partial[2, :, :, 0], vmin=-0.5, vmax=0.5)\n",
        "ax3.xaxis.set_visible(False)\n",
        "ax3.yaxis.set_visible(False)\n",
        "ax3.set_aspect('equal')\n",
        "ax3.set_title('t')\n",
        "plt.margins(0.25, 0.25)\n",
        "\n",
        "fig.colorbar(im1, ax=(ax1, ax2, ax3))\n",
        "plt.show()"
      ],
      "metadata": {
        "colab": {
          "base_uri": "https://localhost:8080/",
          "height": 520
        },
        "id": "5WyRfW8oUOx6",
        "outputId": "76b71f62-3171-4e5a-f0e9-50f894234737"
      },
      "execution_count": 12,
      "outputs": [
        {
          "output_type": "display_data",
          "data": {
            "text/plain": [
              "<Figure size 1152x648 with 4 Axes>"
            ],
            "image/png": "[encoded data removed]"
          },
          "metadata": {
            "needs_background": "light"
          }
        }
      ]
    },
    {
      "cell_type": "markdown",
      "source": [
        "## 2. Estimating the Laplacian of the flow velocities"
      ],
      "metadata": {
        "id": "_LWhkN5ReL2U"
      }
    },
    {
      "cell_type": "code",
      "source": [
        "from scipy.signal import convolve2d"
      ],
      "metadata": {
        "id": "nJ9qihwT66-V"
      },
      "execution_count": 13,
      "outputs": []
    },
    {
      "cell_type": "code",
      "source": [
        "def image_seq_laplacian(arr):\n",
        "  # Pad all spatial boundaries.\n",
        "  if len(arr.shape) == 2:\n",
        "    arr_new = np.expand_dims(arr, axis=-1)\n",
        "  elif len(arr.shape) == 3:\n",
        "    arr_new = arr\n",
        "  else:\n",
        "    raise ValueError('Wrong input dimension. Must be 2 or 3.')\n",
        "  padded = np.pad(arr_new, ((1, 1), (1, 1), (0, 0)), mode='edge')\n",
        "\n",
        "  # Convolution kernel.\n",
        "  kernel = np.array([\n",
        "      [0.25, 0.5, 0.25],\n",
        "      [0.5, -3.0, 0.5],\n",
        "      [0.25, 0.5, 0.25]\n",
        "  ])\n",
        "\n",
        "  # Convolve each frame of padded with kernel and discard boundary.\n",
        "  lap = np.zeros_like(arr_new, dtype='float')\n",
        "  for f in range(arr_new.shape[-1]):\n",
        "    lap[..., f] += convolve2d(padded[..., f], kernel, mode='valid')\n",
        "  \n",
        "  return lap"
      ],
      "metadata": {
        "id": "9lJ8RQF-eQ9f"
      },
      "execution_count": 14,
      "outputs": []
    },
    {
      "cell_type": "code",
      "source": [
        "u_test = np.array([\n",
        "    [1, 1, 1, 0, 0, 0],\n",
        "    [1, 1, 1, 0, 0, 0],\n",
        "    [1, 1, 1, 0, 0, 0],\n",
        "    [0, 0, 0, -1, -1, -1],\n",
        "    [0, 0, 0, -1, -1, -1],\n",
        "    [0, 0, 0, -1, -1, -1]\n",
        "])"
      ],
      "metadata": {
        "id": "gmwG3whA95e-"
      },
      "execution_count": 15,
      "outputs": []
    },
    {
      "cell_type": "code",
      "source": [
        "lap_u = image_seq_laplacian(u_test)"
      ],
      "metadata": {
        "id": "qmO7Q-038_IJ"
      },
      "execution_count": 16,
      "outputs": []
    },
    {
      "cell_type": "code",
      "source": [
        "v_test = np.array([\n",
        "    [-1, -1, -1, 0, 0, 0],\n",
        "    [-1, -1, -1, 0, 0, 0],\n",
        "    [-1, -1, -1, 0, 0, 0],\n",
        "    [0, 0, 0, 1, 1, 1],\n",
        "    [0, 0, 0, 1, 1, 1],\n",
        "    [0, 0, 0, 1, 1, 1]\n",
        "])"
      ],
      "metadata": {
        "id": "XRj4LfMIAx9H"
      },
      "execution_count": 17,
      "outputs": []
    },
    {
      "cell_type": "code",
      "source": [
        "lap_v = image_seq_laplacian(v_test)"
      ],
      "metadata": {
        "id": "l5JeXB5QDOlz"
      },
      "execution_count": 18,
      "outputs": []
    },
    {
      "cell_type": "code",
      "source": [
        "lap_v.shape"
      ],
      "metadata": {
        "colab": {
          "base_uri": "https://localhost:8080/"
        },
        "id": "2D2EYGOtDnha",
        "outputId": "9af96e4d-0097-43f3-aefc-5f496787b6d8"
      },
      "execution_count": 19,
      "outputs": [
        {
          "output_type": "execute_result",
          "data": {
            "text/plain": [
              "(6, 6, 1)"
            ]
          },
          "metadata": {},
          "execution_count": 19
        }
      ]
    },
    {
      "cell_type": "code",
      "source": [
        "fig = plt.figure(figsize=(16, 9))\n",
        "ax1 = fig.add_subplot(121)\n",
        "ax1.xaxis.set_visible(False)\n",
        "ax1.yaxis.set_visible(False)\n",
        "ax1.set_aspect('equal')\n",
        "plt.quiver(u_test[::-1], -v_test[::-1])\n",
        "plt.margins(0.25, 0.25)\n",
        "\n",
        "ax2 = fig.add_subplot(122)\n",
        "ax2.xaxis.set_visible(False)\n",
        "ax2.yaxis.set_visible(False)\n",
        "ax2.set_aspect('equal')\n",
        "plt.quiver(lap_u[::-1, :, 0], -lap_v[::-1, :, 0])\n",
        "plt.margins(0.25, 0.25)\n",
        "plt.show()"
      ],
      "metadata": {
        "colab": {
          "base_uri": "https://localhost:8080/",
          "height": 440
        },
        "id": "aByiLSZ7BKnC",
        "outputId": "23c98303-9b57-4cd3-883f-9733245add77"
      },
      "execution_count": 93,
      "outputs": [
        {
          "output_type": "display_data",
          "data": {
            "text/plain": [
              "<Figure size 1152x648 with 2 Axes>"
            ],
            "image/png": "[encoded data removed]"
          },
          "metadata": {
            "needs_background": "light"
          }
        }
      ]
    },
    {
      "cell_type": "markdown",
      "source": [
        "## 3. Local averages"
      ],
      "metadata": {
        "id": "gbk3hH7vkvH1"
      }
    },
    {
      "cell_type": "markdown",
      "source": [
        "Estimate local averages in a single frame."
      ],
      "metadata": {
        "id": "JJVmXHCqMvi9"
      }
    },
    {
      "cell_type": "code",
      "source": [
        "def image_local_averages(arr):\n",
        "  if len(arr.shape) != 2:\n",
        "    raise ValueError('Wrong dimension. Must be 2.')\n",
        "  # Pad all spatial boundaries.\n",
        "  padded = np.pad(arr, ((1, 1), (1, 1)), mode='edge')\n",
        "\n",
        "  # Convolution kernel.\n",
        "  kernel = 1/3 * np.array([\n",
        "      [0.25, 0.5, 0.25],\n",
        "      [0.5, 0.0, 0.5],\n",
        "      [0.25, 0.5, 0.25]\n",
        "  ])\n",
        "\n",
        "  # Convolve padded with kernel and discard boundary.\n",
        "  loc = convolve2d(padded, kernel, mode='valid')\n",
        "  \n",
        "  return loc"
      ],
      "metadata": {
        "id": "eJClw4TaLlR9"
      },
      "execution_count": 22,
      "outputs": []
    },
    {
      "cell_type": "code",
      "source": [
        "loc_u = image_local_averages(u_test)"
      ],
      "metadata": {
        "id": "7pmTfF01M5vy"
      },
      "execution_count": 23,
      "outputs": []
    },
    {
      "cell_type": "code",
      "source": [
        "loc_v = image_local_averages(v_test)"
      ],
      "metadata": {
        "id": "oHEXlUkQNA1Q"
      },
      "execution_count": 24,
      "outputs": []
    },
    {
      "cell_type": "code",
      "source": [
        "fig = plt.figure(figsize=(16, 9))\n",
        "ax1 = fig.add_subplot(121)\n",
        "ax1.xaxis.set_visible(False)\n",
        "ax1.yaxis.set_visible(False)\n",
        "ax1.set_aspect('equal')\n",
        "plt.quiver(u_test[::-1], -v_test[::-1])\n",
        "plt.margins(0.25, 0.25)\n",
        "\n",
        "ax2 = fig.add_subplot(122)\n",
        "ax2.xaxis.set_visible(False)\n",
        "ax2.yaxis.set_visible(False)\n",
        "ax2.set_aspect('equal')\n",
        "plt.quiver(loc_u[::-1], -loc_v[::-1])\n",
        "plt.margins(0.25, 0.25)\n",
        "plt.show()"
      ],
      "metadata": {
        "colab": {
          "base_uri": "https://localhost:8080/",
          "height": 440
        },
        "id": "DdEXRyJhNDCW",
        "outputId": "799e8e14-29ec-4925-e916-6abdbc3fbaf4"
      },
      "execution_count": 94,
      "outputs": [
        {
          "output_type": "display_data",
          "data": {
            "text/plain": [
              "<Figure size 1152x648 with 2 Axes>"
            ],
            "image/png": "[encoded data removed]"
          },
          "metadata": {
            "needs_background": "light"
          }
        }
      ]
    },
    {
      "cell_type": "markdown",
      "source": [
        "## 4. Iterative solution"
      ],
      "metadata": {
        "id": "Bi2nvdC8NUzb"
      }
    },
    {
      "cell_type": "markdown",
      "source": [
        "Iteration step for a single frame."
      ],
      "metadata": {
        "id": "RpUV5DgrphWi"
      }
    },
    {
      "cell_type": "code",
      "source": [
        "def iteration_step(uv, e_x, e_y, e_t, alpha):\n",
        "  u_loc = image_local_averages(uv[0])\n",
        "  v_loc = image_local_averages(uv[1])\n",
        "  uv_new = np.zeros_like(uv)\n",
        "  uv_new[0] += u_loc - e_x*(e_x*u_loc + e_y*v_loc + e_t) / (alpha**2 + e_x**2 + e_y**2)\n",
        "  uv_new[1] += v_loc - e_y*(e_x*u_loc + e_y*v_loc + e_t) / (alpha**2 + e_x**2 + e_y**2)\n",
        "  return uv_new"
      ],
      "metadata": {
        "id": "IWiGn8AFkwcU"
      },
      "execution_count": 26,
      "outputs": []
    },
    {
      "cell_type": "markdown",
      "source": [
        "Iteration for multiple frames."
      ],
      "metadata": {
        "id": "h5qIUCzxsILO"
      }
    },
    {
      "cell_type": "code",
      "source": [
        "def iteration(arr, n, alpha, uv_init=None, use_previous=False):\n",
        "  \"\"\"\n",
        "  :param use_previous: if use_previous=True then the result of each time frame will be copied to the next time frame's iteration. Otherwise, uv_init will be used instead.\n",
        "  \"\"\"\n",
        "  if uv_init is None:\n",
        "    uv_init = np.zeros((2,) + arr.shape[:-1])\n",
        "  \n",
        "  uv = np.zeros_like(uv_init)\n",
        "  uv += uv_init\n",
        "\n",
        "  uv_final = np.zeros((2,) + arr.shape)\n",
        "\n",
        "  e_x, e_y, e_t = image_seq_partial(arr)\n",
        "\n",
        "  for t in range(arr.shape[-1]):\n",
        "    for k in range(n):\n",
        "      uv = iteration_step(uv, e_x[..., t], e_y[..., t], e_t[..., t], alpha=alpha)\n",
        "    uv_final[..., t] += uv\n",
        "    \n",
        "    if not use_previous:\n",
        "      uv = np.zeros_like(uv_init)\n",
        "      uv += uv_init\n",
        "  \n",
        "  return uv_final"
      ],
      "metadata": {
        "id": "Q-zYGOI6qtm-"
      },
      "execution_count": 60,
      "outputs": []
    },
    {
      "cell_type": "code",
      "source": [
        "uv = iteration(im_arr, 10, alpha=10, use_previous=False)"
      ],
      "metadata": {
        "id": "OpY1XkEJvDfZ"
      },
      "execution_count": 90,
      "outputs": []
    },
    {
      "cell_type": "code",
      "source": [
        "uv.shape"
      ],
      "metadata": {
        "colab": {
          "base_uri": "https://localhost:8080/"
        },
        "id": "eP9BRLicvbfA",
        "outputId": "08f49fdc-1b83-40be-a693-46b976cfd213"
      },
      "execution_count": 91,
      "outputs": [
        {
          "output_type": "execute_result",
          "data": {
            "text/plain": [
              "(2, 6, 6, 3)"
            ]
          },
          "metadata": {},
          "execution_count": 91
        }
      ]
    },
    {
      "cell_type": "code",
      "source": [
        "fig = plt.figure(figsize=(16, 9))\n",
        "ax1 = fig.add_subplot(131)\n",
        "ax1.xaxis.set_visible(False)\n",
        "ax1.yaxis.set_visible(False)\n",
        "ax1.set_aspect('equal')\n",
        "plt.quiver(uv[0, ::-1, :, 0], -uv[1, ::-1, :, 0])\n",
        "\n",
        "ax2 = fig.add_subplot(132)\n",
        "ax2.xaxis.set_visible(False)\n",
        "ax2.yaxis.set_visible(False)\n",
        "ax2.set_aspect('equal')\n",
        "plt.quiver(uv[0, ::-1, :, 1], -uv[1, ::-1, :, 1])\n",
        "\n",
        "ax3 = fig.add_subplot(133)\n",
        "ax3.xaxis.set_visible(False)\n",
        "ax3.yaxis.set_visible(False)\n",
        "ax3.set_aspect('equal')\n",
        "plt.quiver(uv[0, ::-1, :, 2], -uv[1, ::-1, :, 2])\n",
        "\n",
        "plt.show()"
      ],
      "metadata": {
        "colab": {
          "base_uri": "https://localhost:8080/",
          "height": 366
        },
        "id": "1aPqAlduvLDa",
        "outputId": "07e2d7a2-6c52-412c-93f0-03ea72f309bc"
      },
      "execution_count": 95,
      "outputs": [
        {
          "output_type": "stream",
          "name": "stderr",
          "text": [
            "/usr/local/lib/python3.7/dist-packages/matplotlib/quiver.py:715: RuntimeWarning: divide by zero encountered in double_scalars\n",
            "  length = a * (widthu_per_lenu / (self.scale * self.width))\n",
            "/usr/local/lib/python3.7/dist-packages/matplotlib/quiver.py:715: RuntimeWarning: invalid value encountered in multiply\n",
            "  length = a * (widthu_per_lenu / (self.scale * self.width))\n"
          ]
        },
        {
          "output_type": "display_data",
          "data": {
            "text/plain": [
              "<Figure size 1152x648 with 3 Axes>"
            ],
            "image/png": "[encoded data removed]"
          },
          "metadata": {
            "needs_background": "light"
          }
        }
      ]
    },
    {
      "cell_type": "code",
      "source": [
        ""
      ],
      "metadata": {
        "id": "AUThlxVcvr-6"
      },
      "execution_count": null,
      "outputs": []
    }
  ]
}