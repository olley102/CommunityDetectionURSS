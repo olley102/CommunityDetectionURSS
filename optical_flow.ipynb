{
  "nbformat": 4,
  "nbformat_minor": 0,
  "metadata": {
    "colab": {
      "name": "optical_flow.ipynb",
      "provenance": [],
      "collapsed_sections": [],
      "authorship_tag": "ABX9TyP7nYP3DwB9pYKIJbfEz4ve",
      "include_colab_link": true
    },
    "kernelspec": {
      "name": "python3",
      "display_name": "Python 3"
    },
    "language_info": {
      "name": "python"
    }
  },
  "cells": [
    {
      "cell_type": "markdown",
      "metadata": {
        "id": "view-in-github",
        "colab_type": "text"
      },
      "source": [
        "<a href=\"https://colab.research.google.com/github/olley102/CommunityDetectionURSS/blob/main/optical_flow.ipynb\" target=\"_parent\"><img src=\"https://colab.research.google.com/assets/colab-badge.svg\" alt=\"Open In Colab\"/></a>"
      ]
    },
    {
      "cell_type": "markdown",
      "source": [
        "# Optical Flow\n",
        "\n",
        "Based on (Horn, B., Schunk, B., *Determining Optical Flow* 1981)."
      ],
      "metadata": {
        "id": "WHElRmxPdEkr"
      }
    },
    {
      "cell_type": "markdown",
      "source": [
        "## 1. Estimating partial derivatives"
      ],
      "metadata": {
        "id": "s_0EetSfd72D"
      }
    },
    {
      "cell_type": "code",
      "source": [
        "import numpy as np"
      ],
      "metadata": {
        "id": "faxoPWgCmnsI"
      },
      "execution_count": 2,
      "outputs": []
    },
    {
      "cell_type": "code",
      "source": [
        "def image_seq_partial(arr):\n",
        "  # Pad the lower-right boundary of each frame, and pad the back frame.\n",
        "  padded = np.pad(arr, ((0, 1), (0, 1), (0, 1)), mode='edge')\n",
        "\n",
        "  # Shift the entire array to get 8 neighbouring measurements.\n",
        "  shift000 = arr\n",
        "  shift001 = padded[:, :, 1:]\n",
        "  shift010 = padded[:, 1:, :]\n",
        "  shift011 = padded[:, 1:, 1:]\n",
        "  shift100 = padded[1:, :, :]\n",
        "  shift101 = padded[1:, :, 1:]\n",
        "  shift110 = padded[1:, 1:, :]\n",
        "  shift111 = padded[1:, 1:, 1:]\n",
        "\n",
        "  # Approximate derivatives.\n",
        "  partial_x = 0.25 * (shift010 - shift000 + shift110 - shift100 + shift011 - shift001 + shift111 - shift101)\n",
        "  partial_y = 0.25 * (shift100 - shift000 + shift110 - shift010 + shift101 - shift001 + shift111 - shift011)\n",
        "  partial_t = 0.25 * (shift001 - shift000 + shift101 - shift100 + shift011 - shift010 + shift111 - shift110)\n",
        "\n",
        "  # Concatenate and return at positions available in arr.\n",
        "  return np.stack((\n",
        "      partial_x[:-1, :-1, :-1],\n",
        "      partial_y[:-1, :-1, :-1],\n",
        "      partial_t[:-1, :-1, :-1]\n",
        "  ), axis=-1)"
      ],
      "metadata": {
        "id": "76W5I1oIeKJx"
      },
      "execution_count": null,
      "outputs": []
    },
    {
      "cell_type": "markdown",
      "source": [
        "## 2. Estimating the Laplacian of the flow velocities"
      ],
      "metadata": {
        "id": "_LWhkN5ReL2U"
      }
    },
    {
      "cell_type": "code",
      "source": [
        "from scipy.signal import convolve2d"
      ],
      "metadata": {
        "id": "nJ9qihwT66-V"
      },
      "execution_count": 3,
      "outputs": []
    },
    {
      "cell_type": "code",
      "source": [
        "def image_seq_laplacian(arr):\n",
        "  # Pad all spatial boundaries.\n",
        "  if len(arr.shape) == 2:\n",
        "    arr_new = np.expand_dims(arr, axis=-1)\n",
        "  elif len(arr.shape) == 3:\n",
        "    arr_new = arr\n",
        "  else:\n",
        "    raise ValueError('Wrong input dimension. Must be 2 or 3.')\n",
        "  padded = np.pad(arr_new, ((1, 1), (1, 1), (0, 0)), mode='edge')\n",
        "\n",
        "  # Convolution kernel.\n",
        "  kernel = np.array([\n",
        "      [0.25, 0.5, 0.25],\n",
        "      [0.5, -3.0, 0.5],\n",
        "      [0.25, 0.5, 0.25]\n",
        "  ])\n",
        "\n",
        "  # Convolve each frame of padded with kernel and discard boundary.\n",
        "  lap = np.zeros_like(arr_new, dtype='float')\n",
        "  for f in range(arr_new.shape[-1]):\n",
        "    lap[..., f] += convolve2d(padded[..., f], kernel, mode='valid')\n",
        "  \n",
        "  return lap"
      ],
      "metadata": {
        "id": "9lJ8RQF-eQ9f"
      },
      "execution_count": 68,
      "outputs": []
    },
    {
      "cell_type": "code",
      "source": [
        "u_test = np.array([\n",
        "    [1, 1, 1, 0, 0, 0],\n",
        "    [1, 1, 1, 0, 0, 0],\n",
        "    [1, 1, 1, 0, 0, 0],\n",
        "    [0, 0, 0, -1, -1, -1],\n",
        "    [0, 0, 0, -1, -1, -1],\n",
        "    [0, 0, 0, -1, -1, -1]\n",
        "])"
      ],
      "metadata": {
        "id": "gmwG3whA95e-"
      },
      "execution_count": 69,
      "outputs": []
    },
    {
      "cell_type": "code",
      "source": [
        "lap_u = image_seq_laplacian(u_test)"
      ],
      "metadata": {
        "id": "qmO7Q-038_IJ"
      },
      "execution_count": 70,
      "outputs": []
    },
    {
      "cell_type": "code",
      "source": [
        "v_test = np.array([\n",
        "    [-1, -1, -1, 0, 0, 0],\n",
        "    [-1, -1, -1, 0, 0, 0],\n",
        "    [-1, -1, -1, 0, 0, 0],\n",
        "    [0, 0, 0, 1, 1, 1],\n",
        "    [0, 0, 0, 1, 1, 1],\n",
        "    [0, 0, 0, 1, 1, 1]\n",
        "])"
      ],
      "metadata": {
        "id": "XRj4LfMIAx9H"
      },
      "execution_count": 73,
      "outputs": []
    },
    {
      "cell_type": "code",
      "source": [
        "lap_v = image_seq_laplacian(v_test)"
      ],
      "metadata": {
        "id": "l5JeXB5QDOlz"
      },
      "execution_count": 74,
      "outputs": []
    },
    {
      "cell_type": "code",
      "source": [
        "lap_v.shape"
      ],
      "metadata": {
        "colab": {
          "base_uri": "https://localhost:8080/"
        },
        "id": "2D2EYGOtDnha",
        "outputId": "6f338861-100e-4017-e28b-bd0d2f4ac201"
      },
      "execution_count": 75,
      "outputs": [
        {
          "output_type": "execute_result",
          "data": {
            "text/plain": [
              "(6, 6, 1)"
            ]
          },
          "metadata": {},
          "execution_count": 75
        }
      ]
    },
    {
      "cell_type": "code",
      "source": [
        "import matplotlib.pyplot as plt"
      ],
      "metadata": {
        "id": "p4zTv4ZH_LoD"
      },
      "execution_count": 76,
      "outputs": []
    },
    {
      "cell_type": "code",
      "source": [
        "fig = plt.figure(figsize=(16, 9))\n",
        "ax1 = fig.add_subplot(121)\n",
        "ax1.xaxis.set_visible(False)\n",
        "ax1.yaxis.set_visible(False)\n",
        "ax1.set_aspect('equal')\n",
        "plt.quiver(u_test, v_test)\n",
        "plt.margins(0.25, 0.25)\n",
        "\n",
        "ax2 = fig.add_subplot(122)\n",
        "ax2.xaxis.set_visible(False)\n",
        "ax2.yaxis.set_visible(False)\n",
        "ax2.set_aspect('equal')\n",
        "plt.quiver(lap_u[..., 0], lap_v[..., 0])\n",
        "plt.margins(0.25, 0.25)\n",
        "plt.show()"
      ],
      "metadata": {
        "colab": {
          "base_uri": "https://localhost:8080/",
          "height": 440
        },
        "id": "aByiLSZ7BKnC",
        "outputId": "d1a11bb6-bc6b-4074-acaa-7b840306b7ee"
      },
      "execution_count": 77,
      "outputs": [
        {
          "output_type": "display_data",
          "data": {
            "text/plain": [
              "<Figure size 1152x648 with 2 Axes>"
            ],
            "image/png": "[encoded data removed]"
          },
          "metadata": {
            "needs_background": "light"
          }
        }
      ]
    },
    {
      "cell_type": "markdown",
      "source": [
        "## 3. Iterative solution"
      ],
      "metadata": {
        "id": "gbk3hH7vkvH1"
      }
    },
    {
      "cell_type": "code",
      "source": [
        ""
      ],
      "metadata": {
        "id": "IWiGn8AFkwcU"
      },
      "execution_count": null,
      "outputs": []
    }
  ]
}