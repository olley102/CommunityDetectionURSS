{
  "nbformat": 4,
  "nbformat_minor": 0,
  "metadata": {
    "colab": {
      "name": "optical_flow.ipynb",
      "provenance": [],
      "collapsed_sections": [],
      "authorship_tag": "ABX9TyOLg7CqL/dTSNH2mCHxjj9P",
      "include_colab_link": true
    },
    "kernelspec": {
      "name": "python3",
      "display_name": "Python 3"
    },
    "language_info": {
      "name": "python"
    }
  },
  "cells": [
    {
      "cell_type": "markdown",
      "metadata": {
        "id": "view-in-github",
        "colab_type": "text"
      },
      "source": [
        "<a href=\"https://colab.research.google.com/github/olley102/CommunityDetectionURSS/blob/main/optical_flow.ipynb\" target=\"_parent\"><img src=\"https://colab.research.google.com/assets/colab-badge.svg\" alt=\"Open In Colab\"/></a>"
      ]
    },
    {
      "cell_type": "markdown",
      "source": [
        "# Optical Flow\n",
        "\n",
        "Based on (Horn, B., Schunk, B., *Determining Optical Flow* 1981)."
      ],
      "metadata": {
        "id": "WHElRmxPdEkr"
      }
    },
    {
      "cell_type": "markdown",
      "source": [
        "## 1. Estimating partial derivatives"
      ],
      "metadata": {
        "id": "s_0EetSfd72D"
      }
    },
    {
      "cell_type": "code",
      "source": [
        "import numpy as np"
      ],
      "metadata": {
        "id": "faxoPWgCmnsI"
      },
      "execution_count": 1,
      "outputs": []
    },
    {
      "cell_type": "code",
      "source": [
        "A = np.array([[1, 2], [3, 4]])\n",
        "B = np.pad(A, ((0, 1), (0, 1)), mode='constant', constant_values=(0, 0))"
      ],
      "metadata": {
        "id": "ZNMwPW70ozJT"
      },
      "execution_count": 16,
      "outputs": []
    },
    {
      "cell_type": "code",
      "source": [
        "C = np.array([[[1, 2], [3, 4]], [[5, 6], [7, 8]]])"
      ],
      "metadata": {
        "id": "umTCY28mtKU3"
      },
      "execution_count": 18,
      "outputs": []
    },
    {
      "cell_type": "code",
      "source": [
        "def image_seq_partial(arr):\n",
        "  # Pad the lower-right boundary of each frame.\n",
        "  padded = np.pad(arr, ((0, 1), (0, 1), (0, 1)), mode='edge')\n",
        "\n",
        "  # Shift the entire array to get 8 neighbouring measurements.\n",
        "  shift000 = arr\n",
        "  shift001 = padded[:, :, 1:]\n",
        "  shift010 = padded[:, 1:, :]\n",
        "  shift011 = padded[:, 1:, 1:]\n",
        "  shift100 = padded[1:, :, :]\n",
        "  shift101 = padded[1:, :, 1:]\n",
        "  shift110 = padded[1:, 1:, :]\n",
        "  shift111 = padded[1:, 1:, 1:]\n",
        "\n",
        "  # Approximate derivatives.\n",
        "  partial_x = 0.25 * (shift010 - shift000 + shift110 - shift100 + shift011 - shift001 + shift111 - shift101)\n",
        "  partial_y = 0.25 * (shift100 - shift000 + shift110 - shift010 + shift101 - shift001 + shift111 - shift011)\n",
        "  partial_t = 0.25 * (shift001 - shift000 + shift101 - shift100 + shift011 - shift010 + shift111 - shift110)\n",
        "\n",
        "  # Concatenate and return at positions available in arr.\n",
        "  return np.stack((\n",
        "      partial_x[:-1, :-1, :-1],\n",
        "      partial_y[:-1, :-1, :-1],\n",
        "      partial_t[:-1, :-1, :-1]\n",
        "  ), axis=-1)"
      ],
      "metadata": {
        "id": "76W5I1oIeKJx"
      },
      "execution_count": null,
      "outputs": []
    },
    {
      "cell_type": "markdown",
      "source": [
        "## 2. Estimating the Laplacian of the flow velocities"
      ],
      "metadata": {
        "id": "_LWhkN5ReL2U"
      }
    },
    {
      "cell_type": "code",
      "source": [
        ""
      ],
      "metadata": {
        "id": "9lJ8RQF-eQ9f"
      },
      "execution_count": null,
      "outputs": []
    },
    {
      "cell_type": "markdown",
      "source": [
        "## 3. Iterative solution"
      ],
      "metadata": {
        "id": "gbk3hH7vkvH1"
      }
    },
    {
      "cell_type": "code",
      "source": [
        ""
      ],
      "metadata": {
        "id": "IWiGn8AFkwcU"
      },
      "execution_count": null,
      "outputs": []
    }
  ]
}