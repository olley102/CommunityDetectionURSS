{
 "nbformat": 4,
 "nbformat_minor": 0,
 "metadata": {
  "colab": {
   "name": "image_processing_test.ipynb",
   "provenance": [],
   "collapsed_sections": [],
   "authorship_tag": "ABX9TyMjtJn7MMfO2MfCvd+CiQJu",
   "include_colab_link": true
  },
  "kernelspec": {
   "name": "python3",
   "display_name": "Python 3"
  },
  "language_info": {
   "name": "python"
  }
 },
 "cells": [
  {
   "cell_type": "markdown",
   "metadata": {
    "id": "view-in-github",
    "colab_type": "text"
   },
   "source": [
    "<a href=\"https://colab.research.google.com/github/olley102/PopulationCountClustering/blob/main/image_processing_test.ipynb\" target=\"_parent\"><img src=\"https://colab.research.google.com/assets/colab-badge.svg\" alt=\"Open In Colab\"/></a>"
   ]
  },
  {
   "cell_type": "code",
   "execution_count": 1,
   "metadata": {
    "colab": {
     "base_uri": "https://localhost:8080/"
    },
    "id": "iU_2D9hwT9Ne",
    "outputId": "66e23c1d-58f5-43ff-8c25-8c53966f67ae"
   },
   "outputs": [
    {
     "output_type": "stream",
     "name": "stdout",
     "text": [
      "Cloning into 'CommunityDetectionURSS'...\n",
      "remote: Enumerating objects: 70, done.\u001B[K\n",
      "remote: Counting objects: 100% (70/70), done.\u001B[K\n",
      "remote: Compressing objects: 100% (54/54), done.\u001B[K\n",
      "remote: Total 70 (delta 24), reused 45 (delta 10), pack-reused 0\u001B[K\n",
      "Unpacking objects: 100% (70/70), done.\n"
     ]
    }
   ],
   "source": [
    "!git clone https://github.com/olley102/PopulationCountClustering.git"
   ]
  },
  {
   "cell_type": "code",
   "source": [
    "import sys\n",
    "sys.path.append('/content/PopulationCountClustering')"
   ],
   "metadata": {
    "id": "4Tm7bRzYUL9c"
   },
   "execution_count": 2,
   "outputs": []
  },
  {
   "cell_type": "code",
   "source": [
    "from image_processing import optical_flow"
   ],
   "metadata": {
    "id": "bHoNwW2IUaFl"
   },
   "execution_count": 3,
   "outputs": []
  },
  {
   "cell_type": "code",
   "source": [
    "import numpy as np\n",
    "import matplotlib.pyplot as plt"
   ],
   "metadata": {
    "id": "QV8DHJKcU1fw"
   },
   "execution_count": 5,
   "outputs": []
  },
  {
   "cell_type": "code",
   "source": [
    "im_arr = np.stack([np.array([\n",
    "        [1, 1, 1, 0, 0, 0],\n",
    "        [1, 1, 1, 0, 0, 0],\n",
    "        [1, 1, 1, 0, 0, 0],\n",
    "        [0, 0, 0, 0, 0, 0],\n",
    "        [0, 0, 0, 0, 0, 0],\n",
    "        [0, 0, 0, 0, 0, 0]\n",
    "    ]),\n",
    "    np.array([\n",
    "        [0, 1, 1, 1, 0, 0],\n",
    "        [0, 1, 1, 1, 0, 0],\n",
    "        [0, 1, 1, 1, 0, 0],\n",
    "        [0, 0, 0, 0, 0, 0],\n",
    "        [0, 0, 0, 0, 0, 0],\n",
    "        [0, 0, 0, 0, 0, 0]\n",
    "    ]),\n",
    "    np.array([\n",
    "        [0, 0, 0, 0, 0, 0],\n",
    "        [0, 1, 1, 1, 0, 0],\n",
    "        [0, 1, 1, 1, 0, 0],\n",
    "        [0, 1, 1, 1, 0, 0],\n",
    "        [0, 0, 0, 0, 0, 0],\n",
    "        [0, 0, 0, 0, 0, 0]\n",
    "    ])\n",
    "], axis=-1)"
   ],
   "metadata": {
    "id": "UkrrW_LuUt21"
   },
   "execution_count": 6,
   "outputs": []
  },
  {
   "cell_type": "code",
   "source": [
    "uv = optical_flow.iteration(im_arr, 5, alpha=10, use_previous=True, centering=(0, 0, 0))"
   ],
   "metadata": {
    "id": "Un22N0eLU0fY"
   },
   "execution_count": 7,
   "outputs": []
  },
  {
   "cell_type": "code",
   "source": [
    "uv.shape"
   ],
   "metadata": {
    "colab": {
     "base_uri": "https://localhost:8080/"
    },
    "id": "lW9L8QqpVL-B",
    "outputId": "3d3c7c0a-6914-4d22-f798-f3f324001d17"
   },
   "execution_count": 8,
   "outputs": [
    {
     "output_type": "execute_result",
     "data": {
      "text/plain": [
       "(2, 6, 6, 3)"
      ]
     },
     "metadata": {},
     "execution_count": 8
    }
   ]
  },
  {
   "cell_type": "code",
   "source": [
    "fig = plt.figure(figsize=(16, 9))\n",
    "ax1 = fig.add_subplot(131)\n",
    "ax1.xaxis.set_visible(False)\n",
    "ax1.yaxis.set_visible(False)\n",
    "ax1.set_aspect('equal')\n",
    "plt.quiver(uv[0, ::-1, :, 0], -uv[1, ::-1, :, 0])\n",
    "\n",
    "ax2 = fig.add_subplot(132)\n",
    "ax2.xaxis.set_visible(False)\n",
    "ax2.yaxis.set_visible(False)\n",
    "ax2.set_aspect('equal')\n",
    "plt.quiver(uv[0, ::-1, :, 1], -uv[1, ::-1, :, 1])\n",
    "\n",
    "ax3 = fig.add_subplot(133)\n",
    "ax3.xaxis.set_visible(False)\n",
    "ax3.yaxis.set_visible(False)\n",
    "ax3.set_aspect('equal')\n",
    "plt.quiver(uv[0, ::-1, :, 2], -uv[1, ::-1, :, 2])\n",
    "\n",
    "plt.show()"
   ],
   "metadata": {
    "colab": {
     "base_uri": "https://localhost:8080/",
     "height": 297
    },
    "id": "BgfDCRINVMtA",
    "outputId": "d0637089-608f-4cfa-db17-cc21665a5408"
   },
   "execution_count": 9,
   "outputs": [
    {
     "output_type": "display_data",
     "data": {
      "text/plain": [
       "<Figure size 1152x648 with 3 Axes>"
      ],
      "image/png": "[encoded data removed]"
     },
     "metadata": {
      "needs_background": "light"
     }
    }
   ]
  },
  {
   "cell_type": "code",
   "source": [
    ""
   ],
   "metadata": {
    "id": "pIo5RVzaVPbo"
   },
   "execution_count": null,
   "outputs": []
  }
 ]
}