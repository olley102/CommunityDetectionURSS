{
 "cells": [
  {
   "cell_type": "code",
   "execution_count": 1,
   "id": "4e413ec8-10c4-4c9f-b07b-2c54609befb1",
   "metadata": {},
   "outputs": [],
   "source": [
    "import numpy as np\n",
    "import matplotlib.pyplot as plt\n",
    "from PIL import Image"
   ]
  },
  {
   "cell_type": "code",
   "execution_count": 4,
   "id": "fdd1d211-b9f1-4a5d-b137-585f37c112b1",
   "metadata": {},
   "outputs": [],
   "source": [
    "img = Image.open('GPW_v411_pc_time1.tif')"
   ]
  },
  {
   "cell_type": "code",
   "execution_count": null,
   "id": "982035e0-f451-4101-ab5e-9f2000fa5e51",
   "metadata": {},
   "outputs": [],
   "source": [
    "# This breaks. img too large.\n",
    "# img_arr = np.array(img)"
   ]
  },
  {
   "cell_type": "code",
   "execution_count": null,
   "id": "79fb8497-73a7-47e7-82a0-90513067cf9e",
   "metadata": {},
   "outputs": [],
   "source": []
  }
 ],
 "metadata": {
  "kernelspec": {
   "display_name": "Python 3",
   "language": "python",
   "name": "python3"
  },
  "language_info": {
   "codemirror_mode": {
    "name": "ipython",
    "version": 3
   },
   "file_extension": ".py",
   "mimetype": "text/x-python",
   "name": "python",
   "nbconvert_exporter": "python",
   "pygments_lexer": "ipython3",
   "version": "3.8.8"
  }
 },
 "nbformat": 4,
 "nbformat_minor": 5
}
